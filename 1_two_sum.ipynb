{
 "cells": [
  {
   "cell_type": "code",
   "execution_count": 16,
   "id": "c2f7d5b2",
   "metadata": {},
   "outputs": [
    {
     "name": "stdout",
     "output_type": "stream",
     "text": [
      "[0, 3]\n"
     ]
    }
   ],
   "source": [
    "'''Given an array of integers nums and an integer target, return indices of the two numbers such that they add up to target.\n",
    "You may assume that each input would have exactly one solution, and you may not use the same element twice.'''\n",
    "\n",
    "def two_sum(nums, target):\n",
    "    base_dict = {}\n",
    "    for idx, x in enumerate(nums):\n",
    "        target_num = target - x\n",
    "        if target_num in base_dict.keys():\n",
    "            return([base_dict[target_num],idx])\n",
    "        base_dict[x] = idx\n",
    "    print(base_dict)\n",
    "        \n",
    "result = two_sum([4,3,2,5], 9)\n",
    "print(result)"
   ]
  },
  {
   "cell_type": "code",
   "execution_count": 17,
   "id": "8006ba78",
   "metadata": {},
   "outputs": [],
   "source": [
    "# Time complexity would be O(n). The time complexity for 'if target_num in base_dict.keys()' will be O(1)"
   ]
  }
 ],
 "metadata": {
  "kernelspec": {
   "display_name": "Python 3",
   "language": "python",
   "name": "python3"
  },
  "language_info": {
   "codemirror_mode": {
    "name": "ipython",
    "version": 3
   },
   "file_extension": ".py",
   "mimetype": "text/x-python",
   "name": "python",
   "nbconvert_exporter": "python",
   "pygments_lexer": "ipython3",
   "version": "3.8.8"
  }
 },
 "nbformat": 4,
 "nbformat_minor": 5
}
