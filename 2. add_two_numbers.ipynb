{
 "cells": [
  {
   "cell_type": "code",
   "execution_count": 3,
   "id": "769c6f11",
   "metadata": {},
   "outputs": [
    {
     "name": "stdout",
     "output_type": "stream",
     "text": [
      "[3, 5, 7]\n"
     ]
    }
   ],
   "source": [
    "def add2(l1, l2):\n",
    "    carry_num = 0\n",
    "    final_arr = []\n",
    "    for idx, x in enumerate(reversed(l1)):\n",
    "        if l1[idx] + l2[idx] + carry_num > 9:\n",
    "            final_arr.append(l1[idx] + l2[idx] + carry_num % 10)\n",
    "            carry_num = ((l1[idx] + l2[idx] + carry_num) // 10) % 10\n",
    "        else:\n",
    "            final_arr.append(l1[idx] + l2[idx] + carry_num)\n",
    "            \n",
    "    print(final_arr)\n",
    "        \n",
    "\n",
    "add2([1,2,3], [2,3,4])"
   ]
  }
 ],
 "metadata": {
  "kernelspec": {
   "display_name": "Python 3",
   "language": "python",
   "name": "python3"
  },
  "language_info": {
   "codemirror_mode": {
    "name": "ipython",
    "version": 3
   },
   "file_extension": ".py",
   "mimetype": "text/x-python",
   "name": "python",
   "nbconvert_exporter": "python",
   "pygments_lexer": "ipython3",
   "version": "3.8.8"
  }
 },
 "nbformat": 4,
 "nbformat_minor": 5
}
